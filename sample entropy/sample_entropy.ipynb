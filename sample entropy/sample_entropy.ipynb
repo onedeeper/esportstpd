{
  "nbformat": 4,
  "nbformat_minor": 0,
  "metadata": {
    "colab": {
      "provenance": []
    },
    "kernelspec": {
      "name": "python3",
      "display_name": "Python 3"
    },
    "language_info": {
      "name": "python"
    }
  },
  "cells": [
    {
      "cell_type": "code",
      "execution_count": null,
      "metadata": {
        "colab": {
          "base_uri": "https://localhost:8080/"
        },
        "id": "iaPbQ8A01ZMT",
        "outputId": "021a72c6-112f-4181-d14d-f54ad18715d1"
      },
      "outputs": [
        {
          "output_type": "stream",
          "name": "stdout",
          "text": [
            "Collecting pyentrp\n",
            "  Downloading pyentrp-0.9.0-py3-none-any.whl (10 kB)\n",
            "Collecting numpy<2.0,>=1.26 (from pyentrp)\n",
            "  Downloading numpy-1.26.4-cp310-cp310-manylinux_2_17_x86_64.manylinux2014_x86_64.whl (18.2 MB)\n",
            "\u001b[2K     \u001b[90m━━━━━━━━━━━━━━━━━━━━━━━━━━━━━━━━━━━━━━━━\u001b[0m \u001b[32m18.2/18.2 MB\u001b[0m \u001b[31m39.6 MB/s\u001b[0m eta \u001b[36m0:00:00\u001b[0m\n",
            "\u001b[?25hInstalling collected packages: numpy, pyentrp\n",
            "  Attempting uninstall: numpy\n",
            "    Found existing installation: numpy 1.25.2\n",
            "    Uninstalling numpy-1.25.2:\n",
            "      Successfully uninstalled numpy-1.25.2\n",
            "Successfully installed numpy-1.26.4 pyentrp-0.9.0\n"
          ]
        }
      ],
      "source": [
        "!pip install pyentrp"
      ]
    },
    {
      "cell_type": "code",
      "source": [
        "import os\n",
        "import pyentrp as pyen\n",
        "import pandas as pd\n",
        "import numpy as np\n",
        "import scipy.stats as stats"
      ],
      "metadata": {
        "id": "9YTBkV_02DqN"
      },
      "execution_count": null,
      "outputs": []
    },
    {
      "cell_type": "code",
      "source": [
        "!pip show pyentrp"
      ],
      "metadata": {
        "colab": {
          "base_uri": "https://localhost:8080/"
        },
        "id": "KpVg_9DieJRO",
        "outputId": "1c20e1fa-8743-467e-e115-1ae28df2167e"
      },
      "execution_count": null,
      "outputs": [
        {
          "output_type": "stream",
          "name": "stdout",
          "text": [
            "Name: pyentrp\n",
            "Version: 0.9.0\n",
            "Summary: A Python library for computing entropy measures for time series analysis.\n",
            "Home-page: \n",
            "Author: Nikolay Donets\n",
            "Author-email: nd@donets.org\n",
            "License: Apache-2.0\n",
            "Location: /usr/local/lib/python3.10/dist-packages\n",
            "Requires: numpy\n",
            "Required-by: \n"
          ]
        }
      ]
    },
    {
      "cell_type": "markdown",
      "source": [
        "# Load amateur GSR"
      ],
      "metadata": {
        "id": "cd8H98GU4PaQ"
      }
    },
    {
      "cell_type": "code",
      "source": [
        "os.chdir('/content/drive/MyDrive/Tilburg/Masters CSAI/Year 1 - Semester 2/Complex Systems/CS Project/eSports_Sensors_Dataset-master/HRV csvs/HRV_GSR_Final/GSR/amateurs/match_13')\n",
        "files = os.listdir('/content/drive/MyDrive/Tilburg/Masters CSAI/Year 1 - Semester 2/Complex Systems/CS Project/eSports_Sensors_Dataset-master/HRV csvs/HRV_GSR_Final/GSR/amateurs/match_13')\n",
        "am_gsr_data = dict()\n",
        "for f in files:\n",
        "  if 'csv' in f:\n",
        "    #print()\n",
        "    f_name = f.split('.')[0]\n",
        "    print(f'Am_{f_name}')\n",
        "    am_gsr_data[f_name] = pd.read_csv(f)"
      ],
      "metadata": {
        "colab": {
          "base_uri": "https://localhost:8080/"
        },
        "id": "u0F7CxJM2HUd",
        "outputId": "875d74c0-1b03-4960-a62d-9f76690cc5e6"
      },
      "execution_count": null,
      "outputs": [
        {
          "output_type": "stream",
          "name": "stdout",
          "text": [
            "Am_player_0\n",
            "Am_player_1\n",
            "Am_player_2\n",
            "Am_player_3\n",
            "Am_player_4\n"
          ]
        }
      ]
    },
    {
      "cell_type": "markdown",
      "source": [
        "# Load amateur HRV data\n"
      ],
      "metadata": {
        "id": "0qW5gnvl4Z-J"
      }
    },
    {
      "cell_type": "code",
      "source": [
        "os.chdir('/content/drive/MyDrive/Tilburg/Masters CSAI/Year 1 - Semester 2/Complex Systems/CS Project/eSports_Sensors_Dataset-master/HRV csvs/HRV_GSR_Final/HRV/amateurs/match_13')\n",
        "files = os.listdir('/content/drive/MyDrive/Tilburg/Masters CSAI/Year 1 - Semester 2/Complex Systems/CS Project/eSports_Sensors_Dataset-master/HRV csvs/HRV_GSR_Final/HRV/amateurs/match_13')\n",
        "am_hrv_data = dict()\n",
        "for f in files:\n",
        "  if 'csv' in f:\n",
        "    #print()\n",
        "    f_name = f.split('.')[0]\n",
        "    print(f'Am_{f_name}')\n",
        "    am_hrv_data[f_name] = pd.read_csv(f)"
      ],
      "metadata": {
        "colab": {
          "base_uri": "https://localhost:8080/"
        },
        "id": "ysxPZ9Vs3N8j",
        "outputId": "54052a89-412c-4c0d-c455-109e4d93ec29"
      },
      "execution_count": null,
      "outputs": [
        {
          "output_type": "stream",
          "name": "stdout",
          "text": [
            "Am_match_13_player_0\n",
            "Am_match_13_player_1\n",
            "Am_match_13_player_2\n",
            "Am_match_13_player_3\n",
            "Am_match_13_player_4\n"
          ]
        }
      ]
    },
    {
      "cell_type": "markdown",
      "source": [
        "# Load Pro GSR data"
      ],
      "metadata": {
        "id": "SoMDWhYJ44pW"
      }
    },
    {
      "cell_type": "code",
      "source": [
        "os.chdir('/content/drive/MyDrive/Tilburg/Masters CSAI/Year 1 - Semester 2/Complex Systems/CS Project/eSports_Sensors_Dataset-master/HRV csvs/HRV_GSR_Final/GSR/pros/match_10')\n",
        "files = os.listdir('/content/drive/MyDrive/Tilburg/Masters CSAI/Year 1 - Semester 2/Complex Systems/CS Project/eSports_Sensors_Dataset-master/HRV csvs/HRV_GSR_Final/GSR/pros/match_10')\n",
        "pro_gsr_data = dict()\n",
        "for f in files:\n",
        "  if 'csv' in f:\n",
        "    #print()\n",
        "    f_name = f.split('.')[0]\n",
        "    print(f'Am_{f_name}')\n",
        "    pro_gsr_data[f_name] = pd.read_csv(f)"
      ],
      "metadata": {
        "colab": {
          "base_uri": "https://localhost:8080/"
        },
        "id": "pjuQKNj345zz",
        "outputId": "2c39af9e-3f7c-4984-83ac-9c4fe94000ba"
      },
      "execution_count": null,
      "outputs": [
        {
          "output_type": "stream",
          "name": "stdout",
          "text": [
            "Am_player_0\n",
            "Am_player_1\n",
            "Am_player_2\n",
            "Am_player_3\n",
            "Am_player_4\n"
          ]
        }
      ]
    },
    {
      "cell_type": "markdown",
      "source": [
        "# Load pro HRV Data"
      ],
      "metadata": {
        "id": "pmR0ilfn5Iwe"
      }
    },
    {
      "cell_type": "code",
      "source": [
        "os.chdir('/content/drive/MyDrive/Tilburg/Masters CSAI/Year 1 - Semester 2/Complex Systems/CS Project/eSports_Sensors_Dataset-master/HRV csvs/HRV_GSR_Final/HRV/pros/match_10')\n",
        "files = os.listdir('/content/drive/MyDrive/Tilburg/Masters CSAI/Year 1 - Semester 2/Complex Systems/CS Project/eSports_Sensors_Dataset-master/HRV csvs/HRV_GSR_Final/HRV/pros/match_10')\n",
        "pro_hrv_data = dict()\n",
        "for f in files:\n",
        "  if 'csv' in f:\n",
        "    #print()\n",
        "    f_name = f.split('.')[0]\n",
        "    print(f'Am_{f_name}')\n",
        "    pro_hrv_data[f_name] = pd.read_csv(f)"
      ],
      "metadata": {
        "colab": {
          "base_uri": "https://localhost:8080/"
        },
        "id": "SIdbJJYa5H2J",
        "outputId": "9e2b2b57-7e1e-45bb-ca8c-6a77d207f034"
      },
      "execution_count": null,
      "outputs": [
        {
          "output_type": "stream",
          "name": "stdout",
          "text": [
            "Am_match_10_player_0\n",
            "Am_match_10_player_1\n",
            "Am_match_10_player_2\n",
            "Am_match_10_player_3\n",
            "Am_match_10_player_4\n"
          ]
        }
      ]
    },
    {
      "cell_type": "markdown",
      "source": [
        "# Load surrogate data"
      ],
      "metadata": {
        "id": "PpKgavat5hzk"
      }
    },
    {
      "cell_type": "code",
      "source": [
        "# load 100 pro surrogates gsr\n",
        "pro_100_gsr = os.listdir('/content/drive/MyDrive/Tilburg/Masters CSAI/Year 1 - Semester 2/Complex Systems/CS Project/Python code/individual analysis/pro_surrogates/GSR')[:100]"
      ],
      "metadata": {
        "id": "oU1igZKc5BQ2"
      },
      "execution_count": null,
      "outputs": []
    },
    {
      "cell_type": "code",
      "source": [
        "pro_100_surr_gsr = [pd.read_csv(f'/content/drive/MyDrive/Tilburg/Masters CSAI/Year 1 - Semester 2/Complex Systems/CS Project/Python code/individual analysis/pro_surrogates/GSR/{f}') for f in pro_100_gsr]"
      ],
      "metadata": {
        "id": "7xtsUZo950IP"
      },
      "execution_count": null,
      "outputs": []
    },
    {
      "cell_type": "code",
      "source": [
        "# load 100 pro surrogate hrv\n",
        "pro_100_hrv = os.listdir('/content/drive/MyDrive/Tilburg/Masters CSAI/Year 1 - Semester 2/Complex Systems/CS Project/Python code/individual analysis/pro_surrogates/HRV')[:100]\n",
        "pro_100_surr_hrv = [pd.read_csv(f'/content/drive/MyDrive/Tilburg/Masters CSAI/Year 1 - Semester 2/Complex Systems/CS Project/Python code/individual analysis/pro_surrogates/HRV/{f}') for f in pro_100_hrv]"
      ],
      "metadata": {
        "id": "ezfE_XHc6RhS"
      },
      "execution_count": null,
      "outputs": []
    },
    {
      "cell_type": "code",
      "source": [
        "# load 100 amateur surrogate gsr\n",
        "am_100_gsr = os.listdir('/content/drive/MyDrive/Tilburg/Masters CSAI/Year 1 - Semester 2/Complex Systems/CS Project/Python code/individual analysis/amateur_surrogates/GSR')[:100]\n",
        "am_100_surr_gsr = [pd.read_csv(f'/content/drive/MyDrive/Tilburg/Masters CSAI/Year 1 - Semester 2/Complex Systems/CS Project/Python code/individual analysis/amateur_surrogates/GSR/{f}') for f in am_100_gsr]"
      ],
      "metadata": {
        "id": "lsRWOJ1c5zvT"
      },
      "execution_count": null,
      "outputs": []
    },
    {
      "cell_type": "code",
      "source": [
        "# load 1000 amateur surrogate hrv\n",
        "am_100_hrv = os.listdir('/content/drive/MyDrive/Tilburg/Masters CSAI/Year 1 - Semester 2/Complex Systems/CS Project/Python code/individual analysis/amateur_surrogates/HRV')[:100]\n",
        "am_100_surr_hrv = [pd.read_csv(f'/content/drive/MyDrive/Tilburg/Masters CSAI/Year 1 - Semester 2/Complex Systems/CS Project/Python code/individual analysis/amateur_surrogates/HRV/{f}') for f in am_100_hrv]"
      ],
      "metadata": {
        "id": "GyvmR2RE7OEZ"
      },
      "execution_count": null,
      "outputs": []
    },
    {
      "cell_type": "markdown",
      "source": [
        "# Calculate sample entropy"
      ],
      "metadata": {
        "id": "IG6sDgQv7bEf"
      }
    },
    {
      "cell_type": "code",
      "source": [
        "pro_player_data = {'GSR' : pro_gsr_data,'HRV' : pro_hrv_data}\n",
        "am_player_data = {'GSR' : am_gsr_data, 'HRV':  am_hrv_data}"
      ],
      "metadata": {
        "id": "fyQF59EF7aIQ"
      },
      "execution_count": null,
      "outputs": []
    },
    {
      "cell_type": "code",
      "source": [
        "from pyentrp import entropy"
      ],
      "metadata": {
        "id": "L0uL6nUs-Rko"
      },
      "execution_count": null,
      "outputs": []
    },
    {
      "cell_type": "markdown",
      "source": [
        "## Professionals"
      ],
      "metadata": {
        "id": "7_lo-bNcEG2I"
      }
    },
    {
      "cell_type": "code",
      "source": [
        "pro_gsr_sampen = []\n",
        "for player in pro_player_data['GSR']:\n",
        "  print(player)\n",
        "  vals = pro_player_data['GSR'][player]['gsr'].values\n",
        "  std_ts = np.std(vals)\n",
        "  mean_ts = np.mean(vals)\n",
        "  vals_stationary = (vals - mean_ts)/std_ts\n",
        "  sampen = entropy.sample_entropy(vals_stationary,sample_length = 2, tolerance = 0.15 * np.std(vals_stationary))\n",
        "  pro_gsr_sampen.append((player,sampen[0]))\n",
        "  # for player in pro_player_data[d]:\n",
        "  #   print(d, player)\n",
        "  #   vals = pro_player_data[d][player]['gsr'].values\n",
        "  #   std_ts = np.std(vals)\n",
        "  #   sampen = entropy.sample_entropy(vals,sample_length = 2, tolerance = 0.15 * std_ts)\n",
        "  #   pro_gsr_sampen.append(player,sampen)"
      ],
      "metadata": {
        "colab": {
          "base_uri": "https://localhost:8080/"
        },
        "id": "e_MTrlQ38DCO",
        "outputId": "3421b14a-1edb-4f53-df89-9b72520ba8f4"
      },
      "execution_count": null,
      "outputs": [
        {
          "output_type": "stream",
          "name": "stdout",
          "text": [
            "player_0\n",
            "player_1\n",
            "player_2\n",
            "player_3\n",
            "player_4\n"
          ]
        }
      ]
    },
    {
      "cell_type": "code",
      "source": [
        "pro_gsr_sampen"
      ],
      "metadata": {
        "colab": {
          "base_uri": "https://localhost:8080/"
        },
        "id": "ZphFvpjTD_Nd",
        "outputId": "8b40dae9-d344-4783-a785-5766742ed166"
      },
      "execution_count": null,
      "outputs": [
        {
          "output_type": "execute_result",
          "data": {
            "text/plain": [
              "[('player_0', 2.50821064640672),\n",
              " ('player_1', 1.5567081898591233),\n",
              " ('player_2', 2.397020169949923),\n",
              " ('player_3', 2.3835515217375143),\n",
              " ('player_4', 2.322200057617593)]"
            ]
          },
          "metadata": {},
          "execution_count": 43
        }
      ]
    },
    {
      "cell_type": "code",
      "source": [
        "pro_hrv_sampen = []\n",
        "for player in pro_player_data['HRV']:\n",
        "  print(player)\n",
        "  vals = pro_player_data['HRV'][player]['RMSSD'].values\n",
        "  std_ts = np.std(vals)\n",
        "  mean_ts = np.mean(vals)\n",
        "  vals_stationary = (vals - mean_ts) / std_ts\n",
        "  sampen = entropy.sample_entropy(vals_stationary,sample_length = 2, tolerance = 0.15 * np.std(vals_stationary))\n",
        "  pro_hrv_sampen.append((player,sampen[0]))\n",
        "  # for player in pro_player_data[d]:\n",
        "  #   print(d, player)\n",
        "  #   vals = pro_player_data[d][player]['gsr'].values\n",
        "  #   std_ts = np.std(vals)\n",
        "  #   sampen = entropy.sample_entropy(vals,sample_length = 2, tolerance = 0.15 * std_ts)\n",
        "  #   pro_gsr_sampen.append(player,sampen)"
      ],
      "metadata": {
        "colab": {
          "base_uri": "https://localhost:8080/"
        },
        "id": "p4hzO-D2_l52",
        "outputId": "ddfa3615-7fea-4f2d-8460-be608a46d025"
      },
      "execution_count": null,
      "outputs": [
        {
          "output_type": "stream",
          "name": "stdout",
          "text": [
            "match_10_player_0\n",
            "match_10_player_1\n",
            "match_10_player_2\n",
            "match_10_player_3\n",
            "match_10_player_4\n"
          ]
        }
      ]
    },
    {
      "cell_type": "code",
      "source": [
        "pro_hrv_sampen"
      ],
      "metadata": {
        "colab": {
          "base_uri": "https://localhost:8080/"
        },
        "id": "2rWv2EVqECJN",
        "outputId": "bd210f58-1eca-4fee-98de-e3645db7bd21"
      },
      "execution_count": null,
      "outputs": [
        {
          "output_type": "execute_result",
          "data": {
            "text/plain": [
              "[('match_10_player_0', 2.543312272656874),\n",
              " ('match_10_player_1', 2.500752658238078),\n",
              " ('match_10_player_2', 2.5520459526256287),\n",
              " ('match_10_player_3', 2.4207099505645417),\n",
              " ('match_10_player_4', 2.4924538554233835)]"
            ]
          },
          "metadata": {},
          "execution_count": 45
        }
      ]
    },
    {
      "cell_type": "markdown",
      "source": [
        "## Amateurs"
      ],
      "metadata": {
        "id": "k5WzBwH3EViU"
      }
    },
    {
      "cell_type": "code",
      "source": [
        "am_gsr_sampen = []\n",
        "for player in am_player_data['GSR']:\n",
        "  print(player)\n",
        "  vals = am_player_data['GSR'][player]['gsr'].values\n",
        "  std_ts = np.std(vals)\n",
        "  mean_ts = np.mean(vals)\n",
        "  vals_stationary = (vals - mean_ts) / std_ts\n",
        "  sampen = entropy.sample_entropy(vals_stationary,sample_length = 2, tolerance = 0.15 * np.std(vals_stationary))\n",
        "  am_gsr_sampen.append((player,sampen[0]))\n",
        "  # for player in pro_player_data[d]:\n",
        "  #   print(d, player)\n",
        "  #   vals = pro_player_data[d][player]['gsr'].values\n",
        "  #   std_ts = np.std(vals)\n",
        "  #   sampen = entropy.sample_entropy(vals,sample_length = 2, tolerance = 0.15 * std_ts)\n",
        "  #   pro_gsr_sampen.append(player,sampen)"
      ],
      "metadata": {
        "colab": {
          "base_uri": "https://localhost:8080/"
        },
        "id": "yQlGOk4-EWW1",
        "outputId": "bfc2cf4c-d06d-4b7d-9cf9-699e22cbb44a"
      },
      "execution_count": null,
      "outputs": [
        {
          "output_type": "stream",
          "name": "stdout",
          "text": [
            "player_0\n",
            "player_1\n",
            "player_2\n",
            "player_3\n",
            "player_4\n"
          ]
        }
      ]
    },
    {
      "cell_type": "code",
      "source": [
        "am_gsr_sampen"
      ],
      "metadata": {
        "colab": {
          "base_uri": "https://localhost:8080/"
        },
        "id": "sSHlo5Z2Eiws",
        "outputId": "33420255-3221-4ddc-f4f9-4baf55472504"
      },
      "execution_count": null,
      "outputs": [
        {
          "output_type": "execute_result",
          "data": {
            "text/plain": [
              "[('player_0', 2.3315838018763273),\n",
              " ('player_1', 2.4140639460840996),\n",
              " ('player_2', 2.475087708219005),\n",
              " ('player_3', 2.421365722317657),\n",
              " ('player_4', 2.4814651312473797)]"
            ]
          },
          "metadata": {},
          "execution_count": 47
        }
      ]
    },
    {
      "cell_type": "code",
      "source": [
        "am_hrv_sampen = []\n",
        "for player in am_player_data['HRV']:\n",
        "  print(player)\n",
        "  vals = am_player_data['HRV'][player]['RMSSD'].values\n",
        "  std_ts = np.std(vals)\n",
        "  mean_ts = np.mean(vals)\n",
        "  vals_stationary = (vals - mean_ts) / std_ts\n",
        "  sampen = entropy.sample_entropy(vals_stationary,sample_length = 2, tolerance = 0.15 * np.std(vals_stationary))\n",
        "  am_hrv_sampen.append((player,sampen[0]))\n",
        "  # for player in pro_player_data[d]:\n",
        "  #   print(d, player)\n",
        "  #   vals = pro_player_data[d][player]['gsr'].values\n",
        "  #   std_ts = np.std(vals)\n",
        "  #   sampen = entropy.sample_entropy(vals,sample_length = 2, tolerance = 0.15 * std_ts)\n",
        "  #   pro_gsr_sampen.append(player,sampen)"
      ],
      "metadata": {
        "colab": {
          "base_uri": "https://localhost:8080/"
        },
        "id": "QP_v6XAwEiKx",
        "outputId": "b61b76ce-dc96-480c-acd3-6d31fc09da2c"
      },
      "execution_count": null,
      "outputs": [
        {
          "output_type": "stream",
          "name": "stdout",
          "text": [
            "match_13_player_0\n",
            "match_13_player_1\n",
            "match_13_player_2\n",
            "match_13_player_3\n",
            "match_13_player_4\n"
          ]
        }
      ]
    },
    {
      "cell_type": "code",
      "source": [
        "am_hrv_sampen"
      ],
      "metadata": {
        "colab": {
          "base_uri": "https://localhost:8080/"
        },
        "id": "O1keoyDjEry6",
        "outputId": "a15941aa-1638-4695-ebbb-abfd290fcc17"
      },
      "execution_count": null,
      "outputs": [
        {
          "output_type": "execute_result",
          "data": {
            "text/plain": [
              "[('match_13_player_0', 2.468323998363695),\n",
              " ('match_13_player_1', 2.456473958446199),\n",
              " ('match_13_player_2', 2.460408389751034),\n",
              " ('match_13_player_3', 2.535426510119478),\n",
              " ('match_13_player_4', 2.368808345253973)]"
            ]
          },
          "metadata": {},
          "execution_count": 49
        }
      ]
    },
    {
      "cell_type": "markdown",
      "source": [
        "# Surrogate sample entropy"
      ],
      "metadata": {
        "id": "ZZCVs6FxE0TG"
      }
    },
    {
      "cell_type": "markdown",
      "source": [
        "## Professionals"
      ],
      "metadata": {
        "id": "nWWpwgcjE6N_"
      }
    },
    {
      "cell_type": "code",
      "source": [
        "p0_sur_gsr_ens = []\n",
        "p1_sur_gsr_ens = []\n",
        "p2_sur_gsr_ens = []\n",
        "p3_sur_gsr_ens = []\n",
        "p4_sur_gsr_ens = []\n",
        "for m in pro_100_surr_gsr:\n",
        "  p0 = m['player_0'].values\n",
        "  p1 = m['player_1'].values\n",
        "  p2 = m['player_2'].values\n",
        "  p3 = m['player_3'].values\n",
        "  p4 = m['player_4'].values\n",
        "\n",
        "  p0_stationary = (p0 - np.mean(p0))/np.std(p0)\n",
        "  p1_stationary = (p1 - np.mean(p1))/np.std(p1)\n",
        "  p2_stationary = (p2 - np.mean(p2))/np.std(p2)\n",
        "  p3_stationary = (p3 - np.mean(p3))/np.std(p3)\n",
        "  p4_stationary = (p4 - np.mean(p4))/np.std(p4)\n",
        "\n",
        "  p0_sampen = entropy.sample_entropy(p0_stationary,sample_length = 2, tolerance = 0.15 * np.std(p0_stationary))[0]\n",
        "  p1_sampen = entropy.sample_entropy(p1_stationary,sample_length = 2, tolerance = 0.15 * np.std(p1_stationary))[0]\n",
        "  p2_sampen = entropy.sample_entropy(p2_stationary,sample_length = 2, tolerance = 0.15 * np.std(p2_stationary))[0]\n",
        "  p3_sampen = entropy.sample_entropy(p3_stationary,sample_length = 2, tolerance = 0.15 * np.std(p3_stationary))[0]\n",
        "  p4_sampen = entropy.sample_entropy(p4_stationary,sample_length = 2, tolerance = 0.15 * np.std(p4_stationary))[0]\n",
        "\n",
        "  p0_sur_gsr_ens.append(p0_sampen)\n",
        "  p1_sur_gsr_ens.append(p1_sampen)\n",
        "  p2_sur_gsr_ens.append(p2_sampen)\n",
        "  p3_sur_gsr_ens.append(p3_sampen)\n",
        "  p4_sur_gsr_ens.append(p4_sampen)\n"
      ],
      "metadata": {
        "id": "uyA4_-iZE4qn"
      },
      "execution_count": null,
      "outputs": []
    },
    {
      "cell_type": "code",
      "source": [
        "p0_sur_hrv_ens = []\n",
        "p1_sur_hrv_ens = []\n",
        "p2_sur_hrv_ens = []\n",
        "p3_sur_hrv_ens = []\n",
        "p4_sur_hrv_ens = []\n",
        "for m in pro_100_surr_hrv:\n",
        "  p0 = m['player_0'].values\n",
        "  p1 = m['player_1'].values\n",
        "  p2 = m['player_2'].values\n",
        "  p3 = m['player_3'].values\n",
        "  p4 = m['player_4'].values\n",
        "\n",
        "  p0_stationary = (p0 - np.mean(p0))/np.std(p0)\n",
        "  p1_stationary = (p1 - np.mean(p1))/np.std(p1)\n",
        "  p2_stationary = (p2 - np.mean(p2))/np.std(p2)\n",
        "  p3_stationary = (p3 - np.mean(p3))/np.std(p3)\n",
        "  p4_stationary = (p4 - np.mean(p4))/np.std(p4)\n",
        "\n",
        "  p0_sampen = entropy.sample_entropy(p0_stationary,sample_length = 2, tolerance = 0.15 * np.std(p0_stationary))[0]\n",
        "  p1_sampen = entropy.sample_entropy(p1_stationary,sample_length = 2, tolerance = 0.15 * np.std(p1_stationary))[0]\n",
        "  p2_sampen = entropy.sample_entropy(p2_stationary,sample_length = 2, tolerance = 0.15 * np.std(p2_stationary))[0]\n",
        "  p3_sampen = entropy.sample_entropy(p3_stationary,sample_length = 2, tolerance = 0.15 * np.std(p3_stationary))[0]\n",
        "  p4_sampen = entropy.sample_entropy(p4_stationary,sample_length = 2, tolerance = 0.15 * np.std(p4_stationary))[0]\n",
        "\n",
        "  p0_sur_hrv_ens.append(p0_sampen)\n",
        "  p1_sur_hrv_ens.append(p1_sampen)\n",
        "  p2_sur_hrv_ens.append(p2_sampen)\n",
        "  p3_sur_hrv_ens.append(p3_sampen)\n",
        "  p4_sur_hrv_ens.append(p4_sampen)"
      ],
      "metadata": {
        "id": "1_Ua4bMrE18r"
      },
      "execution_count": null,
      "outputs": []
    },
    {
      "cell_type": "markdown",
      "source": [
        "## Amateurs"
      ],
      "metadata": {
        "id": "21gJHqriHYn_"
      }
    },
    {
      "cell_type": "code",
      "source": [
        "am_p0_sur_gsr_ens = []\n",
        "am_p1_sur_gsr_ens = []\n",
        "am_p2_sur_gsr_ens = []\n",
        "am_p3_sur_gsr_ens = []\n",
        "am_p4_sur_gsr_ens = []\n",
        "for m in am_100_surr_gsr:\n",
        "  p0 = m['player_0'].values\n",
        "  p1 = m['player_1'].values\n",
        "  p2 = m['player_2'].values\n",
        "  p3 = m['player_3'].values\n",
        "  p4 = m['player_4'].values\n",
        "\n",
        "  p0_stationary = (p0 - np.mean(p0))/np.std(p0)\n",
        "  p1_stationary = (p1 - np.mean(p1))/np.std(p1)\n",
        "  p2_stationary = (p2 - np.mean(p2))/np.std(p2)\n",
        "  p3_stationary = (p3 - np.mean(p3))/np.std(p3)\n",
        "  p4_stationary = (p4 - np.mean(p4))/np.std(p4)\n",
        "\n",
        "  p0_sampen = entropy.sample_entropy(p0_stationary,sample_length = 2, tolerance = 0.15 * np.std(p0_stationary))[0]\n",
        "  p1_sampen = entropy.sample_entropy(p1_stationary,sample_length = 2, tolerance = 0.15 * np.std(p1_stationary))[0]\n",
        "  p2_sampen = entropy.sample_entropy(p2_stationary,sample_length = 2, tolerance = 0.15 * np.std(p2_stationary))[0]\n",
        "  p3_sampen = entropy.sample_entropy(p3_stationary,sample_length = 2, tolerance = 0.15 * np.std(p3_stationary))[0]\n",
        "  p4_sampen = entropy.sample_entropy(p4_stationary,sample_length = 2, tolerance = 0.15 * np.std(p4_stationary))[0]\n",
        "\n",
        "  am_p0_sur_gsr_ens.append(p0_sampen)\n",
        "  am_p1_sur_gsr_ens.append(p1_sampen)\n",
        "  am_p2_sur_gsr_ens.append(p2_sampen)\n",
        "  am_p3_sur_gsr_ens.append(p3_sampen)\n",
        "  am_p4_sur_gsr_ens.append(p4_sampen)"
      ],
      "metadata": {
        "id": "B8sTl7yvHcuV"
      },
      "execution_count": null,
      "outputs": []
    },
    {
      "cell_type": "code",
      "source": [
        "am_p0_sur_hrv_ens = []\n",
        "am_p1_sur_hrv_ens = []\n",
        "am_p2_sur_hrv_ens = []\n",
        "am_p3_sur_hrv_ens = []\n",
        "am_p4_sur_hrv_ens = []\n",
        "\n",
        "for m in am_100_surr_hrv:\n",
        "  p0 = m['player_0'].values\n",
        "  p1 = m['player_1'].values\n",
        "  p2 = m['player_2'].values\n",
        "  p3 = m['player_3'].values\n",
        "  p4 = m['player_4'].values\n",
        "\n",
        "  p0_stationary = (p0 - np.mean(p0))/np.std(p0)\n",
        "  p1_stationary = (p1 - np.mean(p1))/np.std(p1)\n",
        "  p2_stationary = (p2 - np.mean(p2))/np.std(p2)\n",
        "  p3_stationary = (p3 - np.mean(p3))/np.std(p3)\n",
        "  p4_stationary = (p4 - np.mean(p4))/np.std(p4)\n",
        "\n",
        "  p0_sampen = entropy.sample_entropy(p0_stationary,sample_length = 2, tolerance = 0.15 * np.std(p0_stationary))[0]\n",
        "  p1_sampen = entropy.sample_entropy(p1_stationary,sample_length = 2, tolerance = 0.15 * np.std(p1_stationary))[0]\n",
        "  p2_sampen = entropy.sample_entropy(p2_stationary,sample_length = 2, tolerance = 0.15 * np.std(p2_stationary))[0]\n",
        "  p3_sampen = entropy.sample_entropy(p3_stationary,sample_length = 2, tolerance = 0.15 * np.std(p3_stationary))[0]\n",
        "  p4_sampen = entropy.sample_entropy(p4_stationary,sample_length = 2, tolerance = 0.15 * np.std(p4_stationary))[0]\n",
        "\n",
        "  am_p0_sur_hrv_ens.append(p0_sampen)\n",
        "  am_p1_sur_hrv_ens.append(p1_sampen)\n",
        "  am_p2_sur_hrv_ens.append(p2_sampen)\n",
        "  am_p3_sur_hrv_ens.append(p3_sampen)\n",
        "  am_p4_sur_hrv_ens.append(p4_sampen)\n"
      ],
      "metadata": {
        "id": "0zI3BEHIHvfp"
      },
      "execution_count": null,
      "outputs": []
    },
    {
      "cell_type": "markdown",
      "source": [
        "# Condifence intervals"
      ],
      "metadata": {
        "id": "A38MgsbEIJ34"
      }
    },
    {
      "cell_type": "code",
      "source": [
        "players = ['player_0',\n",
        "           'player_1',\n",
        "           'player_2',\n",
        "           'player_3',\n",
        "           'player_4',]"
      ],
      "metadata": {
        "id": "Q7Q3wOTOKyNI"
      },
      "execution_count": null,
      "outputs": []
    },
    {
      "cell_type": "markdown",
      "source": [
        "## Professionals"
      ],
      "metadata": {
        "id": "ULQsDEyhIMcp"
      }
    },
    {
      "cell_type": "code",
      "source": [
        "pro_stats_gsr = {}\n",
        "pro_gsr_ens = [p0_sur_gsr_ens,\n",
        "           p1_sur_gsr_ens,\n",
        "           p2_sur_gsr_ens,\n",
        "           p3_sur_gsr_ens,\n",
        "           p4_sur_gsr_ens,]\n",
        "for i,p in enumerate(pro_gsr_ens):\n",
        "  #print(len(p))\n",
        "  mean = np.mean(p)\n",
        "  sd = np.std(p)\n",
        "  err = stats.t.ppf(0.975, df = len(p) -1) / np.sqrt(len(p))\n",
        "  ci = [mean-err, mean, mean + err]\n",
        "  print(np.round(ci,3))\n",
        "  pro_stats_gsr[players[i]] = (np.round(ci,3))\n"
      ],
      "metadata": {
        "colab": {
          "base_uri": "https://localhost:8080/"
        },
        "id": "VlwGyL8tILW5",
        "outputId": "34eb9f5f-764d-4831-dca9-298c4095aba0"
      },
      "execution_count": null,
      "outputs": [
        {
          "output_type": "stream",
          "name": "stdout",
          "text": [
            "[2.309 2.508 2.706]\n",
            "[1.36  1.558 1.757]\n",
            "[2.199 2.398 2.596]\n",
            "[2.184 2.383 2.581]\n",
            "[2.124 2.323 2.521]\n"
          ]
        }
      ]
    },
    {
      "cell_type": "code",
      "source": [
        "pro_gsr_sampen"
      ],
      "metadata": {
        "colab": {
          "base_uri": "https://localhost:8080/"
        },
        "id": "sFjHZt1yMou5",
        "outputId": "8919905b-0c87-41f9-fa46-8ba00199dd5c"
      },
      "execution_count": null,
      "outputs": [
        {
          "output_type": "execute_result",
          "data": {
            "text/plain": [
              "[('player_0', 2.50821064640672),\n",
              " ('player_1', 1.5567081898591233),\n",
              " ('player_2', 2.397020169949923),\n",
              " ('player_3', 2.3835515217375143),\n",
              " ('player_4', 2.322200057617593)]"
            ]
          },
          "metadata": {},
          "execution_count": 56
        }
      ]
    },
    {
      "cell_type": "code",
      "source": [
        "pro_stats_hrv = {}\n",
        "pro_hrv_ens = [p0_sur_hrv_ens,\n",
        "           p1_sur_hrv_ens,\n",
        "           p2_sur_hrv_ens,\n",
        "           p3_sur_hrv_ens,\n",
        "           p4_sur_hrv_ens,]\n",
        "for i,p in enumerate(pro_hrv_ens):\n",
        "  #print(len(p))\n",
        "  mean = np.mean(p)\n",
        "  sd = np.std(p)\n",
        "  err = stats.t.ppf(0.975, df = len(p) -1) / np.sqrt(len(p))\n",
        "  ci = [mean-err,mean, mean + err]\n",
        "  print(np.round(ci,3))\n",
        "  pro_stats_hrv[players[i]] = (np.round(ci,3))\n"
      ],
      "metadata": {
        "colab": {
          "base_uri": "https://localhost:8080/"
        },
        "id": "LA35s6zsKqFi",
        "outputId": "4469d5a0-1a6e-4d4a-daab-44b11de4ab17"
      },
      "execution_count": null,
      "outputs": [
        {
          "output_type": "stream",
          "name": "stdout",
          "text": [
            "[2.336 2.535 2.733]\n",
            "[2.288 2.486 2.685]\n",
            "[2.359 2.558 2.756]\n",
            "[2.234 2.433 2.631]\n",
            "[2.316 2.515 2.713]\n"
          ]
        }
      ]
    },
    {
      "cell_type": "code",
      "source": [
        "pro_hrv_sampen"
      ],
      "metadata": {
        "colab": {
          "base_uri": "https://localhost:8080/"
        },
        "id": "JrCQNbgqMuBk",
        "outputId": "5b55585f-63d2-4bf5-8464-c3ac8f8af67c"
      },
      "execution_count": null,
      "outputs": [
        {
          "output_type": "execute_result",
          "data": {
            "text/plain": [
              "[('match_10_player_0', 2.543312272656874),\n",
              " ('match_10_player_1', 2.500752658238078),\n",
              " ('match_10_player_2', 2.5520459526256287),\n",
              " ('match_10_player_3', 2.4207099505645417),\n",
              " ('match_10_player_4', 2.4924538554233835)]"
            ]
          },
          "metadata": {},
          "execution_count": 75
        }
      ]
    },
    {
      "cell_type": "markdown",
      "source": [
        "## Amateurs"
      ],
      "metadata": {
        "id": "jVLSMcQMK_nF"
      }
    },
    {
      "cell_type": "code",
      "source": [
        "am_stats_gsr = {}\n",
        "am_gsr_ens = [am_p0_sur_gsr_ens,\n",
        "           am_p1_sur_gsr_ens,\n",
        "           am_p2_sur_gsr_ens,\n",
        "           am_p3_sur_gsr_ens,\n",
        "           am_p4_sur_gsr_ens,]\n",
        "for i,p in enumerate(am_gsr_ens):\n",
        "  #print(len(p))\n",
        "  mean = np.mean(p)\n",
        "  sd = np.std(p)\n",
        "  err = stats.t.ppf(0.975, df = len(p) -1) / np.sqrt(len(p))\n",
        "  ci = [mean-err, mean, mean + err]\n",
        "  print(np.round(ci,3))\n",
        "  am_stats_gsr[players[i]] = (np.round(ci,3))\n"
      ],
      "metadata": {
        "colab": {
          "base_uri": "https://localhost:8080/"
        },
        "id": "tpuZDlBxLBrL",
        "outputId": "a31bb840-6563-4251-b114-2f38988379a6"
      },
      "execution_count": null,
      "outputs": [
        {
          "output_type": "stream",
          "name": "stdout",
          "text": [
            "[2.134 2.332 2.531]\n",
            "[2.216 2.415 2.613]\n",
            "[2.277 2.476 2.674]\n",
            "[2.224 2.422 2.621]\n",
            "[2.283 2.481 2.68 ]\n"
          ]
        }
      ]
    },
    {
      "cell_type": "code",
      "source": [
        "am_gsr_sampen"
      ],
      "metadata": {
        "colab": {
          "base_uri": "https://localhost:8080/"
        },
        "id": "-47uux_ZMy-a",
        "outputId": "879a768b-8939-4238-bb20-ef9bb3a82587"
      },
      "execution_count": null,
      "outputs": [
        {
          "output_type": "execute_result",
          "data": {
            "text/plain": [
              "[('player_0', 2.3315838018763273),\n",
              " ('player_1', 2.4140639460840996),\n",
              " ('player_2', 2.475087708219005),\n",
              " ('player_3', 2.421365722317657),\n",
              " ('player_4', 2.4814651312473797)]"
            ]
          },
          "metadata": {},
          "execution_count": 77
        }
      ]
    },
    {
      "cell_type": "code",
      "source": [
        "am_stats_hrv = {}\n",
        "am_hrv_ens = [am_p0_sur_hrv_ens,\n",
        "           am_p1_sur_hrv_ens,\n",
        "           am_p2_sur_hrv_ens,\n",
        "           am_p3_sur_hrv_ens,\n",
        "           am_p4_sur_hrv_ens,]\n",
        "for i,p in enumerate(am_hrv_ens):\n",
        "  #print(len(p))\n",
        "  mean = np.mean(p)\n",
        "  sd = np.std(p)\n",
        "  err = stats.t.ppf(0.975, df = len(p) -1) / np.sqrt(len(p))\n",
        "  ci = [mean-err, mean, mean + err]\n",
        "  print(np.round(ci,3))\n",
        "  am_stats_hrv[players[i]] = (np.round(ci,3))\n"
      ],
      "metadata": {
        "colab": {
          "base_uri": "https://localhost:8080/"
        },
        "id": "fUfNpdhdLMss",
        "outputId": "2dca7a2b-ccdb-452a-d66b-c04d218a2873"
      },
      "execution_count": null,
      "outputs": [
        {
          "output_type": "stream",
          "name": "stdout",
          "text": [
            "[2.261 2.46  2.658]\n",
            "[2.257 2.456 2.654]\n",
            "[2.269 2.468 2.666]\n",
            "[2.342 2.54  2.739]\n",
            "[2.171 2.37  2.568]\n"
          ]
        }
      ]
    },
    {
      "cell_type": "code",
      "source": [
        "am_hrv_sampen"
      ],
      "metadata": {
        "colab": {
          "base_uri": "https://localhost:8080/"
        },
        "id": "_1H69-0wM6r0",
        "outputId": "eaac5824-39ee-4c44-af5e-cdbc1c06fad4"
      },
      "execution_count": null,
      "outputs": [
        {
          "output_type": "execute_result",
          "data": {
            "text/plain": [
              "[('match_13_player_0', 2.468323998363695),\n",
              " ('match_13_player_1', 2.456473958446199),\n",
              " ('match_13_player_2', 2.460408389751034),\n",
              " ('match_13_player_3', 2.535426510119478),\n",
              " ('match_13_player_4', 2.368808345253973)]"
            ]
          },
          "metadata": {},
          "execution_count": 79
        }
      ]
    },
    {
      "cell_type": "code",
      "source": [],
      "metadata": {
        "id": "vanoQctNTd1W"
      },
      "execution_count": null,
      "outputs": []
    }
  ]
}